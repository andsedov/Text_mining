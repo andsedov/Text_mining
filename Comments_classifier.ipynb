{
 "cells": [
  {
   "cell_type": "markdown",
   "metadata": {},
   "source": [
    "## Comments classifier\n",
    "\n",
    "This is the example of 8-class classification algorithm to classify text explanation of excess stocks in a mining company warehouse. Comments are written in Russian. \n",
    "\n",
    "Training set is a manually labeled sentences for each categories. Feature extraction from text was performed with Tf-idf vectorizer from NLTK package. \n",
    "\n",
    "Learning algoritm is a multiclass stochastic gradient descent with elastic-net loss function regularization."
   ]
  },
  {
   "cell_type": "code",
   "execution_count": 1,
   "metadata": {},
   "outputs": [],
   "source": [
    "import pandas as pd\n",
    "import numpy as np\n",
    "import warnings\n",
    "warnings.simplefilter('ignore')\n",
    "\n",
    "train = pd.read_excel('~/train.xlsx')\n",
    "train.fillna('-', inplace=True)\n",
    "train = train[(train['Комментарий']!='-')&(train['Класс']!='-')]"
   ]
  },
  {
   "cell_type": "markdown",
   "metadata": {},
   "source": [
    "### Data preparation and feature extraction"
   ]
  },
  {
   "cell_type": "code",
   "execution_count": 2,
   "metadata": {
    "collapsed": true
   },
   "outputs": [],
   "source": [
    "from sklearn import preprocessing\n",
    "lb = preprocessing.LabelBinarizer()\n",
    "y = lb.fit_transform(train['Класс'])\n",
    "\n",
    "text = train['Комментарий'].values"
   ]
  },
  {
   "cell_type": "code",
   "execution_count": 3,
   "metadata": {
    "collapsed": true
   },
   "outputs": [],
   "source": [
    "import re\n",
    "import string\n",
    "import nltk\n",
    "from nltk.stem import SnowballStemmer\n",
    "from nltk.tokenize import TweetTokenizer\n",
    "exclude = set(string.punctuation)\n",
    "exclude.remove('.')\n",
    "\n",
    "def stripper(s):\n",
    "    s = ''.join(ch for ch in s if ch not in exclude)\n",
    "    s = re.sub(\"[\\t\\n№\\d«»–]'\", ' ', s)\n",
    "    return ' '.join(s.split())\n",
    "\n",
    "def strippers(s):\n",
    "    s = ''.join(ch for ch in s if ch not in exclude)\n",
    "    s = re.sub('[\\t№\\n\\d«»–]', ' ', s)\n",
    "    return ' '.join(s.split())\n",
    "\n",
    "x = []\n",
    "for line in text:\n",
    "    x.append(stripper(line))"
   ]
  },
  {
   "cell_type": "code",
   "execution_count": 4,
   "metadata": {},
   "outputs": [
    {
     "data": {
      "text/plain": [
       "(142, 489)"
      ]
     },
     "execution_count": 4,
     "metadata": {},
     "output_type": "execute_result"
    }
   ],
   "source": [
    "from sklearn.feature_extraction.text import TfidfVectorizer\n",
    "    \n",
    "vectorizer = TfidfVectorizer(decode_error='replace', encoding='utf-8')\n",
    "X = vectorizer.fit_transform(x)\n",
    "X = X.todense()\n",
    "X.shape"
   ]
  },
  {
   "cell_type": "markdown",
   "metadata": {},
   "source": [
    "### Training"
   ]
  },
  {
   "cell_type": "code",
   "execution_count": 6,
   "metadata": {},
   "outputs": [
    {
     "name": "stdout",
     "output_type": "stream",
     "text": [
      "Accuracy: 0.929577464789\n"
     ]
    }
   ],
   "source": [
    "from sklearn.multiclass import OneVsRestClassifier\n",
    "from sklearn.linear_model import SGDClassifier\n",
    "\n",
    "\n",
    "classif = OneVsRestClassifier(SGDClassifier(penalty='elasticnet', verbose=False))\n",
    "classif.fit(X, y)\n",
    "print('Accuracy:', classif.score(X, y))"
   ]
  },
  {
   "cell_type": "markdown",
   "metadata": {},
   "source": [
    "### Prediction"
   ]
  },
  {
   "cell_type": "code",
   "execution_count": null,
   "metadata": {},
   "outputs": [],
   "source": [
    "test = pd.read_excel('~/test.xlsx')\n",
    "# test.fillna('-', inplace=True)\n",
    "test = test[(test['Комментарий']!='-')]"
   ]
  },
  {
   "cell_type": "code",
   "execution_count": null,
   "metadata": {},
   "outputs": [],
   "source": [
    "test_text = test['Комментарий'].values\n",
    "\n",
    "x_test = []\n",
    "for line in test_text:\n",
    "    x_test.append(stripper(line))\n",
    "    \n",
    "X_test = vectorizer.transform(x_test)\n",
    "X_test = X_test.todense()\n",
    "X_test.shape"
   ]
  },
  {
   "cell_type": "code",
   "execution_count": null,
   "metadata": {
    "collapsed": true,
    "scrolled": true
   },
   "outputs": [],
   "source": [
    "pred = lb.inverse_transform(classif.predict(X_test))\n",
    "pred = pd.DataFrame(pred)\n",
    "result = pd.concat([test, pred], axis=1)\n",
    "result.to_excel('~/prediction.xlsx')"
   ]
  },
  {
   "cell_type": "markdown",
   "metadata": {},
   "source": [
    "### Feature importances for each class\n",
    "\n",
    "Linear model allows to understand what features are important for each class. This loop returns 5 most important words for each class ordered by weights in model."
   ]
  },
  {
   "cell_type": "code",
   "execution_count": null,
   "metadata": {},
   "outputs": [],
   "source": [
    "import operator\n",
    "classes = lb.classes_\n",
    "for i in range(len(classif.coef_)):\n",
    "    print(classes[i])\n",
    "    vocab = vectorizer.vocabulary_.keys()\n",
    "    coef = abs(classif.coef_[i])\n",
    "    d = dict([(t, coef[vectorizer.vocabulary_[t]]) for t in vocab])\n",
    "    sorted_x = sorted(d.items(), key=operator.itemgetter(1),reverse=True)\n",
    "    print(dict(sorted_x[0:5]).keys())"
   ]
  }
 ],
 "metadata": {
  "kernelspec": {
   "display_name": "Python 3",
   "language": "python",
   "name": "python3"
  },
  "language_info": {
   "codemirror_mode": {
    "name": "ipython",
    "version": 3
   },
   "file_extension": ".py",
   "mimetype": "text/x-python",
   "name": "python",
   "nbconvert_exporter": "python",
   "pygments_lexer": "ipython3",
   "version": "3.6.3"
  }
 },
 "nbformat": 4,
 "nbformat_minor": 1
}
